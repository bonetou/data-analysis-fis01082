{
 "cells": [
  {
   "cell_type": "code",
   "execution_count": null,
   "metadata": {},
   "outputs": [],
   "source": [
    "# Importando Bibliotecas\n",
    "import numpy as np\n",
    "import matplotlib.pyplot as plt\n",
    "from sklearn.utils import shuffle\n",
    "from tqdm import tqdm\n",
    "import random\n",
    "import pandas as pd\n",
    "from sklearn.metrics import accuracy_score, recall_score, precision_score"
   ]
  },
  {
   "cell_type": "code",
   "execution_count": null,
   "metadata": {},
   "outputs": [],
   "source": [
    "# Definição do SVM SGD\n",
    "class LinearSVM:\n",
    "    \n",
    "    def __init__(self, x, y):\n",
    "        self.x = x\n",
    "        self.y = y\n",
    "        self.n = x.shape[1]\n",
    "        \n",
    "    def _stochastic_subgradient_descent(self):\n",
    "        epochs = 10000\n",
    "        learning_rate = 1e-8\n",
    "        w = np.zeros(self.n)\n",
    "        \n",
    "        for epoch in tqdm(range(1, epochs+1)):\n",
    "            \n",
    "            X = shuffle(self.x) #arrumar o shuffle\n",
    "            Y = shuffle(self.y)\n",
    "            \n",
    "            for i, xi in enumerate(X):\n",
    "                yi = Y[i]\n",
    "                if(yi*(np.dot(w.T, xi))<=1):\n",
    "                    w = (1 - learning_rate)*w + learning_rate*yi*xi\n",
    "                else:\n",
    "                    w = (1 - learning_rate)*w\n",
    "                \n",
    "        return w\n",
    "    \n",
    "    def fit(self):\n",
    "        w = self._stochastic_subgradient_descent()\n",
    "        norm = np.linalg.norm(w)\n",
    "        b = self.y - np.dot(self.x, w)\n",
    "        #normalize\n",
    "        b = b.sum() / b.size\n",
    "        self.w, self.b = w / norm, b / norm\n",
    "\n",
    "    \n",
    "    def predict(self, x):\n",
    "        #w, b = self._fit()\n",
    "        y = np.sign(np.dot(self.w, x.T) + self.b * np.ones(x.shape[0]))\n",
    "        return y"
   ]
  },
  {
   "cell_type": "code",
   "execution_count": null,
   "metadata": {},
   "outputs": [],
   "source": [
    "# Dados para Treino\n",
    "x_train =  np.array ([ \\\n",
    "        [1.00, 0.31], [1.10, 0.20], [1.12, 0.42], [1.55, 0.75], [1.11, 0.53], #-1\n",
    "        [1.34, 0.32], [0.19, 4.30], [0.51, 2.91], [0.24, 2.58], [1.17, 0.89], #-1\n",
    "        [1.95, 0.44], [2.12, 0.25], [1.06, 0.21], [0.33, 0.20], [0.46, 0.59], #-1\n",
    "        [0.79, 1.33], [0.76, 1.91], [1.34, 1.64], [0.21, 1.18], [0.70, 2.53], #-1\n",
    "        [0.54, 2.23], [1.55, 1.29], [1.46, 0.51], [0.18, 3.37], [0.48, 3.54], #-1\n",
    "        [2.51, 1.10], [2.33, 1.03], [2.21, 1.52], [1.92, 2.05], [2.24, 3.06], # 1\n",
    "        [2.71, 3.35], [0.53, 4.60], [0.80, 4.08], [1.01, 3.35], [1.68, 3.95], # 1\n",
    "        [1.38, 3.86], [2.14, 2.56], [2.16, 1.76], [1.39, 2.84], [1.71, 3.27], # 1\n",
    "        [1.73, 1.82], [2.28, 1.09], [3.00, 1.33], [2.54, 0.34], [3.16, 0.35], # 1\n",
    "        [3.12, 0.88], [2.59, 2.27], [2.40, 3.29], [2.31, 2.92], [1.54, 2.38]  # 1\n",
    "    ])\n",
    "\n",
    "y_train = np.array([ \\\n",
    "        [-1], [-1], [-1], [-1], [-1],\n",
    "        [-1], [-1], [-1], [-1], [-1],\n",
    "        [-1], [-1], [-1], [-1], [-1],\n",
    "        [-1], [-1], [-1], [-1], [-1],\n",
    "        [-1], [-1], [-1], [-1], [-1],\n",
    "        [1], [1], [1], [1], [1], \n",
    "        [1], [1], [1], [1], [1],\n",
    "        [1], [1], [1], [1], [1], \n",
    "        [1], [1], [1], [1], [1],\n",
    "        [1], [1], [1], [1], [1]\n",
    "    ])"
   ]
  },
  {
   "cell_type": "code",
   "execution_count": null,
   "metadata": {},
   "outputs": [],
   "source": [
    "# Definição dos dados de treino: cada ponto \"-\" corresponde ao label -1 e cada ponto \"+\" corresponde ao label 1\n",
    "x1_train_pos = []\n",
    "x2_train_pos = []\n",
    "x1_train_neg = [] \n",
    "x2_train_neg = []\n",
    "X1trpos, X2trpos,X1trneg, X2trneg=[],[],[],[]\n",
    "\n",
    "for i in range(len(x_train)):\n",
    "    if y_train[i] == -1:\n",
    "        X1trneg, X2trneg = x_train[i][0], x_train[i][1]\n",
    "        x1_train_neg.append(X1trneg) \n",
    "        x2_train_neg.append(X2trneg)\n",
    "        \n",
    "    else:\n",
    "        X1trpos, X2trpos = x_train[i][0], x_train[i][1]\n",
    "        x1_train_pos.append(X1trpos)\n",
    "        x2_train_pos.append(X2trpos)\n",
    "        \n",
    "        \n",
    "#Plot do gráfico treino\n",
    "def plot_treino():\n",
    "    fig, ax = plt.subplots(figsize=(8,6))\n",
    "    plt.title(\"SVM Treino\")\n",
    "    plt.xlabel('$X_1$')\n",
    "    plt.ylabel('$X_2$') \n",
    "    plt.scatter(x1_train_pos,x2_train_pos, s=120, marker='+', linewidths=2, label = \"$1$\", color = 'r')\n",
    "    plt.scatter(x1_train_neg,x2_train_neg, s=120, marker='_', linewidths=2, label = \"$-1$\", color = 'b')\n",
    "    plt.plot([2.4,0.1],[0.0,4.9],'k')\n",
    "    plt.legend()\n",
    "    plt.savefig('SVMTrain.png')\n",
    "plot_treino()"
   ]
  },
  {
   "cell_type": "code",
   "execution_count": null,
   "metadata": {},
   "outputs": [],
   "source": [
    "# Dados para Treino\n",
    "x_test =  np.array ([ \\\n",
    "        [1.01, 0.82], [0.87, 0.58], [1.63, 0.87], [1.64, 0.32], [0.78, 1.03], #-1\n",
    "        [1.11, 1.39], [0.70, 1.57], [0.22, 1.62], [0.26, 2.15], [1.05, 2.35], #-1\n",
    "        [0.68, 3.17], [0.68, 3.17], [0.24, 3.96], [0.18, 0.77], [0.72, 0.26], #-1\n",
    "        [0.80, 3.64], [1.66, 3.62], [2.19, 3.94], [2.16, 3.48], [1.98, 3.15], # 1\n",
    "        [2.85, 2.79], [2.13, 2.19], [1.84, 2.83], [1.31, 2.54], [1.77, 1.36], # 1 \n",
    "        [2.80, 0.98], [2.37, 0.64], [3.41, 2.13], [3.00, 2.00], [1.23, 4.74]  # 1\n",
    "    ])\n",
    "# \"Embaralhamento\" dos dados de teste\n",
    "x_test_shuffle = np.random.shuffle(x_test)"
   ]
  },
  {
   "cell_type": "code",
   "execution_count": null,
   "metadata": {},
   "outputs": [],
   "source": [
    "x_test"
   ]
  },
  {
   "cell_type": "code",
   "execution_count": null,
   "metadata": {},
   "outputs": [],
   "source": [
    "y_test_s = np.array([1.,1.,-1.,1.,1.,-1.,1.,-1.,-1.,1.,1.,-1.,-1.,1.,1.,\n",
    "                     -1.,1.,-1.,-1.,1.,1.,-1.,-1.,-1.,-1.,1.,-1.,1.,-1.,1.,])\n",
    "\n",
    "#eu fui imbecil e fiz isso na mão, mas era mais fácil ter colocado 3 colunas pra cada linha sendo a ultima o label\n",
    "#e depois cortar e salvar ela. faz isso."
   ]
  },
  {
   "cell_type": "code",
   "execution_count": null,
   "metadata": {},
   "outputs": [],
   "source": [
    "# Aplicação do SVM Linear\n",
    "lsvm = LinearSVM(x=x_train, y=y_train)\n",
    "lsvm.fit()"
   ]
  },
  {
   "cell_type": "code",
   "execution_count": null,
   "metadata": {},
   "outputs": [],
   "source": [
    "y_pred = lsvm.predict(x=x_test)"
   ]
  },
  {
   "cell_type": "code",
   "execution_count": null,
   "metadata": {},
   "outputs": [],
   "source": [
    "# Definição dos dados de teste: cada ponto \"-\" corresponde ao label -1 e cada ponto \"+\" corresponde ao label 1\n",
    "x1_test_pos = []\n",
    "x2_test_pos = []\n",
    "x1_test_neg = [] \n",
    "x2_test_neg = []\n",
    "X1tspos, X2tspos,X1tsneg, X2tsneg=[],[],[],[]\n",
    "\n",
    "for i in range(len(x_test)):\n",
    "    if y_pred[i] == -1:\n",
    "        X1tsneg, X2tsneg = x_test[i][0], x_test[i][1]\n",
    "        x1_test_neg.append(X1tsneg) \n",
    "        x2_test_neg.append(X2tsneg)\n",
    "        \n",
    "    else:\n",
    "        X1tspos, X2tspos = x_test[i][0], x_test[i][1]\n",
    "        x1_test_pos.append(X1tspos)\n",
    "        x2_test_pos.append(X2tspos)\n",
    "        \n",
    "#Plot do gráfico teste\n",
    "def plot_pred():\n",
    "    fig, ax = plt.subplots(figsize=(8,6))\n",
    "    plt.title(\"SVM Teste\")\n",
    "    plt.xlabel('$X_1$')\n",
    "    plt.ylabel('$X_2$') \n",
    "    plt.scatter(x1_test_pos,x2_test_pos, s=120, marker='+', linewidths=2, label = \"$1$\", color = 'r')\n",
    "    plt.scatter(x1_test_neg,x2_test_neg, s=120, marker='_', linewidths=2, label = \"$-1$\", color = 'b')\n",
    "    plt.plot([2.4,0.1],[0.0,4.9],'k')\n",
    "    plt.legend()\n",
    "    plt.savefig('SVMTest.png')\n",
    "plot_pred()"
   ]
  },
  {
   "cell_type": "code",
   "execution_count": null,
   "metadata": {},
   "outputs": [],
   "source": [
    "# Análise da Acurácia do Programa\n",
    "accuracy_score(y_test_s, y_pred)"
   ]
  }
 ],
 "metadata": {
  "kernelspec": {
   "display_name": "Python 3",
   "language": "python",
   "name": "python3"
  },
  "language_info": {
   "codemirror_mode": {
    "name": "ipython",
    "version": 3
   },
   "file_extension": ".py",
   "mimetype": "text/x-python",
   "name": "python",
   "nbconvert_exporter": "python",
   "pygments_lexer": "ipython3",
   "version": "3.7.6"
  }
 },
 "nbformat": 4,
 "nbformat_minor": 4
}
